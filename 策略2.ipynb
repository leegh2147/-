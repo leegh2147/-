{
 "cells": [
  {
   "cell_type": "code",
   "execution_count": 1,
   "id": "5f80a95d",
   "metadata": {},
   "outputs": [],
   "source": [
    "import os\n",
    "import pandas as pd\n",
    "import numpy as np\n",
    "import matplotlib.pyplot as plt\n",
    "import talib\n",
    "os.environ['TEJAPI_KEY'] = \"ab0aChJaHZYJXVpENhmMQylbwTWO4a\"\n",
    "os.environ['TEJAPI_BASE'] = \"https://api.tej.com.tw\""
   ]
  },
  {
   "cell_type": "code",
   "execution_count": 2,
   "id": "4794efe6",
   "metadata": {},
   "outputs": [],
   "source": [
    "from zipline.finance import slippage, commission\n",
    "from zipline.api import order_target, record, symbol, set_benchmark, set_commission, set_slippage, attach_pipeline, pipeline_output\n",
    "import matplotlib.pyplot as plt\n",
    "from zipline import run_algorithm\n",
    "from zipline.sources.TEJ_Api_Data import get_universe\n",
    "from zipline.data import bundles\n",
    "from zipline.pipeline import Pipeline, CustomFactor\n",
    "from zipline.pipeline.data import TWEquityPricing\n",
    "from zipline.pipeline.filters import StaticAssets\n",
    "from zipline.pipeline.mixins import SingleInputMixin\n",
    "from zipline.pipeline.factors import RSI\n",
    "from zipline.utils.math_utils import nanmean\n",
    "from numpy import abs, clip, diff, inf\n",
    "from numexpr import evaluate\n",
    "start = '2021-01-01'\n",
    "end = '2023-12-31'\n",
    "StockList = ['2330','2454','2455','2458','3014','3034','3529','4952','4961','5234','6183','6531','6756','6799','8016','8081','8261']\n",
    "tickers = ' '.join(StockList)\n",
    "os.environ['ticker'] = tickers + ' IX0001'\n",
    "os.environ['mdate'] = start + ' ' + end"
   ]
  },
  {
   "cell_type": "code",
   "execution_count": 10,
   "id": "d0391d68",
   "metadata": {},
   "outputs": [
    {
     "name": "stdout",
     "output_type": "stream",
     "text": [
      "[2024-06-13 02:17:49.383379] INFO: zipline.data.bundles.core: Ingesting tquant.\n",
      "\u001b[?25lMerging daily equity files:  [####################################]    \u001b[?25h\n",
      "Currently used TEJ API key call quota 62/1000 (6.2%)\n",
      "Currently used TEJ API key data quota 244077/10000000 (2.44%)\n",
      "[2024-06-13 02:17:52.991502] INFO: zipline.data.bundles.core: Ingest tquant successfully.\n"
     ]
    }
   ],
   "source": [
    "# calendar------------------------------------------\n",
    "calendar_name = 'TEJ_XTAI'  \n",
    "# bundle_name---------------------------------------\n",
    "bundle_name = 'tquant'\n",
    "\n",
    "# 确保 zipline 数据包已导入\n",
    "!zipline ingest -b tquant"
   ]
  },
  {
   "cell_type": "code",
   "execution_count": 11,
   "id": "af946346",
   "metadata": {},
   "outputs": [],
   "source": [
    "class RSI2(SingleInputMixin, CustomFactor):\n",
    "    window_length = 15\n",
    "    inputs = (TWEquityPricing.close,)\n",
    "    window_safe = True\n",
    "\n",
    "    def compute(self, today, assets, out, closes):\n",
    "        diffs = diff(closes[:-1][:], axis=0)\n",
    "        ups = nanmean(clip(diffs, 0, inf), axis=0)\n",
    "        downs = abs(nanmean(clip(diffs, -inf, 0), axis=0))\n",
    "        return evaluate(\n",
    "            \"100 - (100 / (1 + (ups / downs)))\",\n",
    "            local_dict={'ups': ups, 'downs': downs},\n",
    "            global_dict={},\n",
    "            out=out,\n",
    "        )\n"
   ]
  },
  {
   "cell_type": "code",
   "execution_count": 12,
   "id": "012a282f",
   "metadata": {},
   "outputs": [],
   "source": [
    "def make_pipeline(short, long):\n",
    "    rsi_long = RSI(inputs=[TWEquityPricing.close], window_length=long)\n",
    "    rsi_short = RSI(inputs=[TWEquityPricing.close], window_length=short)\n",
    "    pre_rsi_long = RSI2(inputs=[TWEquityPricing.close], window_length=long+1)\n",
    "    pre_rsi_short = RSI2(inputs=[TWEquityPricing.close], window_length=short+1)\n",
    "\n",
    "    return Pipeline(columns={\n",
    "        'curr_price': TWEquityPricing.close.latest,\n",
    "        'RSI_short': rsi_short,\n",
    "        'RSI_long': rsi_long,\n",
    "        'pre_RSI_short': pre_rsi_short,\n",
    "        'pre_RSI_long': pre_rsi_long\n",
    "    })"
   ]
  },
  {
   "cell_type": "code",
   "execution_count": 13,
   "id": "b5017625",
   "metadata": {},
   "outputs": [],
   "source": [
    "def initialize(context):\n",
    "    set_slippage(slippage.VolumeShareSlippage())\n",
    "    set_commission(commission.PerShare(cost=0.001425 + 0.003 / 2))\n",
    "    attach_pipeline(make_pipeline(6, 12), 'mystrats')\n",
    "    set_benchmark(symbol('IX0001'))\n",
    "    context.sym = symbol('2330')\n",
    "    context.i = 0\n",
    "    context.invested = False\n"
   ]
  },
  {
   "cell_type": "code",
   "execution_count": 14,
   "id": "fa2e7173",
   "metadata": {},
   "outputs": [],
   "source": [
    "def handle_data(context, data):\n",
    "    out_dir = pipeline_output('mystrats')\n",
    "    trailing_window = data.history(context.sym, 'price', 35, '1d')\n",
    "    if trailing_window.isnull().values.any():\n",
    "        return\n",
    "\n",
    "    short_ema = talib.EMA(trailing_window.values, timeperiod=12)\n",
    "    long_ema = talib.EMA(trailing_window.values, timeperiod=26)\n",
    "    dif = short_ema - long_ema\n",
    "    MACD = talib.EMA(dif, timeperiod=9)\n",
    "    bar = dif - MACD\n",
    "\n",
    "    for i in out_dir.index:\n",
    "        sym = i.symbol\n",
    "        RSI_short = out_dir.loc[i, 'RSI_short']\n",
    "        RSI_long = out_dir.loc[i, \"RSI_long\"]\n",
    "        pre_RSI_short = out_dir.loc[i, 'pre_RSI_short']\n",
    "        pre_RSI_long = out_dir.loc[i, \"pre_RSI_long\"]\n",
    "        curr_price = out_dir.loc[i, 'curr_price']\n",
    "\n",
    "        cash_position = context.portfolio.cash\n",
    "        stock_position = context.portfolio.positions[i].amount\n",
    "\n",
    "        buy, sell = False, False\n",
    "\n",
    "        print(f\"Symbol: {sym}, RSI_short: {RSI_short}, RSI_long: {RSI_long}, dif[-2]: {dif[-2]}, MACD[-2]: {MACD[-2]}, dif[-1]: {dif[-1]}, MACD[-1]: {MACD[-1]}\")\n",
    "\n",
    "        if stock_position >= 0:\n",
    "            if (RSI_short <= 30) and (dif[-2] < MACD[-2]) and (dif[-1] > MACD[-1]):\n",
    "                order_target(i, 1000)\n",
    "                buy = True\n",
    "                print(f\"Buying {sym} at {curr_price}\")\n",
    "\n",
    "        elif stock_position > 0:\n",
    "            if (RSI_short >= 70) and (dif[-2] > MACD[-2]) and (dif[-1] < MACD[-1]):\n",
    "                order_target(i, 0)\n",
    "                sell = True\n",
    "                print(f\"Selling {sym} at {curr_price}\")\n",
    "\n",
    "        record(\n",
    "            TSMC=data.current(symbol('2330'), 'close'),\n",
    "            dif=dif[-1],\n",
    "            MACD=MACD[-1],\n",
    "            bar=bar[-1],\n",
    "            buy=buy,\n",
    "            sell=sell,\n",
    "            RSI_short_2330=RSI_short,\n",
    "            RSI_long_2330=RSI_long\n",
    "        )\n"
   ]
  },
  {
   "cell_type": "code",
   "execution_count": 15,
   "id": "f7c151be",
   "metadata": {},
   "outputs": [],
   "source": [
    "def analyze(context=None, results=None):\n",
    "    import matplotlib.pyplot as plt\n",
    "    import logbook\n",
    "    logbook.StderrHandler().push_application()\n",
    "    log = logbook.Logger('Algorithm')\n",
    "\n",
    "    fig, (ax1, ax2, ax3) = plt.subplots(3, 1, figsize=(18, 15), sharex=True)\n",
    "\n",
    "    results.portfolio_value.plot(ax=ax1)\n",
    "    ax1.set_ylabel('Portfolio value (TWD)')\n",
    "\n",
    "    if 'MACD' in results and 'bar' in results:\n",
    "        ax2.plot(results.index, results['MACD'], label='MACD', color='blue')\n",
    "        colors = [\"red\" if bar > 0 else \"green\" for bar in results['bar']]\n",
    "        ax2.bar(results.index, results['bar'], color=colors, alpha=0.5, width=0.4, label='MACD Bar')\n",
    "\n",
    "        ax2.plot(\n",
    "            results.index[results[\"buy\"] == True],\n",
    "            results.loc[results[\"buy\"] == True, 'MACD'],\n",
    "            '^',\n",
    "            markersize=10,\n",
    "            color='m',\n",
    "            label='Buy Signal'\n",
    "        )\n",
    "        ax2.plot(\n",
    "            results.index[results[\"sell\"] == True],\n",
    "            results.loc[results[\"sell\"] == True, 'MACD'],\n",
    "            'v',\n",
    "            markersize=10,\n",
    "            color='k',\n",
    "            label='Sell Signal'\n",
    "        )\n",
    "\n",
    "        ax2.set_ylabel('MACD')\n",
    "        ax2.legend(loc='upper left')\n",
    "\n",
    "    else:\n",
    "        msg = 'MACD and MACD Bar data not captured using record().'\n",
    "        ax2.annotate(msg, xy=(0.1, 0.5))\n",
    "        log.info(msg)\n",
    "\n",
    "    if 'RSI_short_2330' in results:\n",
    "        ax3.plot(results.index, results['RSI_short_2330'], label='RSI Short', color='orange')\n",
    "        ax3.plot(results.index, results['RSI_long_2330'], label='RSI Long', color='purple')\n",
    "        ax3.set_ylabel('RSI')\n",
    "        ax3.legend(loc='upper right')\n",
    "\n",
    "    else:\n",
    "        msg = 'RSI data not captured using record().'\n",
    "        ax3.annotate(msg, xy=(0.1, 0.5))\n",
    "        log.info(msg)\n",
    "\n",
    "    plt.tight_layout()\n",
    "    plt.show()\n"
   ]
  },
  {
   "cell_type": "code",
   "execution_count": 9,
   "id": "bc73831e",
   "metadata": {},
   "outputs": [
    {
     "ename": "NameError",
     "evalue": "name 'start_date' is not defined",
     "output_type": "error",
     "traceback": [
      "\u001b[0;31m---------------------------------------------------------------------------\u001b[0m",
      "\u001b[0;31mNameError\u001b[0m                                 Traceback (most recent call last)",
      "Cell \u001b[0;32mIn[9], line 3\u001b[0m\n\u001b[1;32m      1\u001b[0m \u001b[38;5;66;03m# Run the algorithm\u001b[39;00m\n\u001b[1;32m      2\u001b[0m results \u001b[38;5;241m=\u001b[39m run_algorithm(\n\u001b[0;32m----> 3\u001b[0m     start\u001b[38;5;241m=\u001b[39mstart_date,\n\u001b[1;32m      4\u001b[0m     end\u001b[38;5;241m=\u001b[39mend_date,\n\u001b[1;32m      5\u001b[0m     initialize\u001b[38;5;241m=\u001b[39minitialize,\n\u001b[1;32m      6\u001b[0m     handle_data\u001b[38;5;241m=\u001b[39mhandle_data,\n\u001b[1;32m      7\u001b[0m     capital_base\u001b[38;5;241m=\u001b[39m\u001b[38;5;241m5e6\u001b[39m,\n\u001b[1;32m      8\u001b[0m     bundle\u001b[38;5;241m=\u001b[39m\u001b[38;5;124m'\u001b[39m\u001b[38;5;124mtquant\u001b[39m\u001b[38;5;124m'\u001b[39m,\n\u001b[1;32m      9\u001b[0m     analyze\u001b[38;5;241m=\u001b[39manalyze\n\u001b[1;32m     10\u001b[0m )\n\u001b[1;32m     12\u001b[0m results\n",
      "\u001b[0;31mNameError\u001b[0m: name 'start_date' is not defined"
     ]
    }
   ],
   "source": [
    "start_d = pd.Timestamp('2021-01-22', tz='utc')\n",
    "end_date = pd.Timestamp('2023-12-31', tz='utc')\n",
    "results = run_algorithm(\n",
    "    start=start_d,\n",
    "    end=end_date,\n",
    "    initialize=initialize,\n",
    "    bundle='tquant',\n",
    "    analyze=analyze,\n",
    "    capital_base=5e6,\n",
    "    handle_data=handle_data\n",
    ")"
   ]
  },
  {
   "cell_type": "code",
   "execution_count": null,
   "id": "c0b28f86",
   "metadata": {},
   "outputs": [],
   "source": [
    "results.returns.cumsum().plot()\n",
    "plt.show()\n"
   ]
  },
  {
   "cell_type": "code",
   "execution_count": null,
   "id": "012e5c20",
   "metadata": {},
   "outputs": [],
   "source": [
    "import pyfolio as pf\n",
    "from pyfolio.utils import extract_rets_pos_txn_from_zipline\n",
    "\n",
    "returns, positions, transactions = pf.utils.extract_rets_pos_txn_from_zipline(results)\n",
    "benchmark_rets = results.benchmark_return\n",
    "\n",
    "# Creating a Full Tear Sheet\n",
    "pf.create_full_tear_sheet(returns, positions = positions, transactions = transactions,\n",
    "                          benchmark_rets = benchmark_rets,\n",
    "                          round_trips=False)"
   ]
  }
 ],
 "metadata": {
  "kernelspec": {
   "display_name": "Python 3 (ipykernel)",
   "language": "python",
   "name": "python3"
  },
  "language_info": {
   "codemirror_mode": {
    "name": "ipython",
    "version": 3
   },
   "file_extension": ".py",
   "mimetype": "text/x-python",
   "name": "python",
   "nbconvert_exporter": "python",
   "pygments_lexer": "ipython3",
   "version": "3.11.5"
  }
 },
 "nbformat": 4,
 "nbformat_minor": 5
}
